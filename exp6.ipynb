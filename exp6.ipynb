{
 "cells": [
  {
   "cell_type": "markdown",
   "metadata": {},
   "source": [
    "# Exp6: GloveVectorizer #\n",
    "\n",
    "Trying out GloveVectorizer as part of Pipeline\n",
    "\n",
    "NB variations of C and gamma hyperparameters give higher or lower score depending on Glove vector dimensions."
   ]
  },
  {
   "cell_type": "code",
   "execution_count": 1,
   "metadata": {
    "collapsed": false
   },
   "outputs": [
    {
     "name": "stdout",
     "output_type": "stream",
     "text": [
      "================================================================================\n",
      "DIMENSIONS: 25\n",
      "             precision    recall  f1-score   support\n",
      "\n",
      "    AGAINST     1.0000    0.0667    0.1250        15\n",
      "      FAVOR     0.6270    0.7453    0.6810       212\n",
      "       NONE     0.5915    0.5000    0.5419       168\n",
      "\n",
      "avg / total     0.6261    0.6152    0.6008       395\n",
      "\n",
      "macro-average of F-score(FAVOR) and F-score(AGAINST): 0.4030\n",
      "\n",
      "================================================================================\n",
      "DIMENSIONS: 50\n",
      "             precision    recall  f1-score   support\n",
      "\n",
      "    AGAINST     1.0000    0.0667    0.1250        15\n",
      "      FAVOR     0.6493    0.8208    0.7250       212\n",
      "       NONE     0.6746    0.5060    0.5782       168\n",
      "\n",
      "avg / total     0.6734    0.6582    0.6398       395\n",
      "\n",
      "macro-average of F-score(FAVOR) and F-score(AGAINST): 0.4250\n",
      "\n",
      "================================================================================\n",
      "DIMENSIONS: 100\n",
      "             precision    recall  f1-score   support\n",
      "\n",
      "    AGAINST     1.0000    0.2000    0.3333        15\n",
      "      FAVOR     0.6573    0.8868    0.7550       212\n",
      "       NONE     0.7642    0.4821    0.5912       168\n",
      "\n",
      "avg / total     0.7158    0.6886    0.6693       395\n",
      "\n",
      "macro-average of F-score(FAVOR) and F-score(AGAINST): 0.5442\n",
      "\n",
      "================================================================================\n",
      "DIMENSIONS: 200\n",
      "             precision    recall  f1-score   support\n",
      "\n",
      "    AGAINST     1.0000    0.2000    0.3333        15\n",
      "      FAVOR     0.6219    0.9387    0.7481       212\n",
      "       NONE     0.8056    0.3452    0.4833       168\n",
      "\n",
      "avg / total     0.7144    0.6582    0.6198       395\n",
      "\n",
      "macro-average of F-score(FAVOR) and F-score(AGAINST): 0.5407\n",
      "\n"
     ]
    }
   ],
   "source": [
    "import pandas as pd\n",
    "\n",
    "from sklearn.pipeline import Pipeline\n",
    "from sklearn.svm import SVC\n",
    "from sklearn.metrics import classification_report\n",
    "from sklearn.cross_validation import cross_val_predict, StratifiedKFold\n",
    "from sklearn.metrics import fbeta_score\n",
    "\n",
    "from glove_transformer import GloveVectorizer\n",
    "\n",
    "data = pd.read_csv(open('semeval2016-task6-trainingdata.txt'), '\\t',\n",
    "                   index_col=0)\n",
    "data = data[data.Target == 'Climate Change is a Real Concern']\n",
    "true_stances = data.Stance\n",
    "\n",
    "cv = StratifiedKFold(true_stances, n_folds=5, shuffle=True, random_state=1)\n",
    "\n",
    "\n",
    "for dim in 25, 50, 100, 200:\n",
    "    print 80 * '='\n",
    "    print 'DIMENSIONS:', dim\n",
    "\n",
    "    glove_fname = 'semeval2016-task6-trainingdata_climate_glove.twitter.27B.{}d.pkl'\n",
    "    glove_vecs = pd.read_pickle(glove_fname.format(dim))\n",
    "\n",
    "    pipeline = Pipeline([('vect', GloveVectorizer(glove_vecs)),\n",
    "                         ('clf', SVC(C=1, gamma=0.01))])\n",
    "\n",
    "    pred_stances = cross_val_predict(pipeline, data.Tweet, true_stances, cv=cv)\n",
    "    print classification_report(true_stances, pred_stances, digits=4)\n",
    "\n",
    "    macro_f = fbeta_score(true_stances, pred_stances, 1.0,\n",
    "                          labels=['AGAINST', 'FAVOR'], average='macro')\n",
    "    print 'macro-average of F-score(FAVOR) and F-score(AGAINST): {:.4f}\\n'.format(macro_f)"
   ]
  },
  {
   "cell_type": "code",
   "execution_count": null,
   "metadata": {
    "collapsed": true
   },
   "outputs": [],
   "source": []
  }
 ],
 "metadata": {
  "kernelspec": {
   "display_name": "Python 2",
   "language": "python",
   "name": "python2"
  },
  "language_info": {
   "codemirror_mode": {
    "name": "ipython",
    "version": 2
   },
   "file_extension": ".py",
   "mimetype": "text/x-python",
   "name": "python",
   "nbconvert_exporter": "python",
   "pygments_lexer": "ipython2",
   "version": "2.7.11"
  }
 },
 "nbformat": 4,
 "nbformat_minor": 0
}
