{
 "cells": [
  {
   "cell_type": "markdown",
   "metadata": {},
   "source": [
    "# Exp7: Voting #"
   ]
  },
  {
   "cell_type": "code",
   "execution_count": 3,
   "metadata": {
    "collapsed": false
   },
   "outputs": [
    {
     "name": "stdout",
     "output_type": "stream",
     "text": [
      "================================================================================\n",
      "DIMENSIONS: 25\n",
      "             precision    recall  f1-score   support\n",
      "\n",
      "    AGAINST     0.8333    0.3333    0.4762        15\n",
      "      FAVOR     0.7273    0.7925    0.7585       212\n",
      "       NONE     0.7152    0.6726    0.6933       168\n",
      "\n",
      "avg / total     0.7262    0.7241    0.7200       395\n",
      "\n",
      "macro-average of F-score(FAVOR) and F-score(AGAINST): 0.6173\n",
      "\n",
      "================================================================================\n",
      "DIMENSIONS: 50\n",
      "             precision    recall  f1-score   support\n",
      "\n",
      "    AGAINST     0.8333    0.3333    0.4762        15\n",
      "      FAVOR     0.7296    0.8019    0.7640       212\n",
      "       NONE     0.7244    0.6726    0.6975       168\n",
      "\n",
      "avg / total     0.7313    0.7291    0.7248       395\n",
      "\n",
      "macro-average of F-score(FAVOR) and F-score(AGAINST): 0.6201\n",
      "\n",
      "================================================================================\n",
      "DIMENSIONS: 100\n",
      "             precision    recall  f1-score   support\n",
      "\n",
      "    AGAINST     0.8333    0.3333    0.4762        15\n",
      "      FAVOR     0.7265    0.8019    0.7623       212\n",
      "       NONE     0.7226    0.6667    0.6935       168\n",
      "\n",
      "avg / total     0.7289    0.7266    0.7222       395\n",
      "\n",
      "macro-average of F-score(FAVOR) and F-score(AGAINST): 0.6193\n",
      "\n",
      "================================================================================\n",
      "DIMENSIONS: 200\n",
      "             precision    recall  f1-score   support\n",
      "\n",
      "    AGAINST     0.8333    0.3333    0.4762        15\n",
      "      FAVOR     0.7253    0.7972    0.7596       212\n",
      "       NONE     0.7179    0.6667    0.6914       168\n",
      "\n",
      "avg / total     0.7263    0.7241    0.7198       395\n",
      "\n",
      "macro-average of F-score(FAVOR) and F-score(AGAINST): 0.6179\n",
      "\n"
     ]
    }
   ],
   "source": [
    "import pandas as pd\n",
    "\n",
    "from sklearn.pipeline import Pipeline\n",
    "from sklearn.svm import SVC, LinearSVC\n",
    "from sklearn.naive_bayes import MultinomialNB\n",
    "from sklearn.metrics import classification_report\n",
    "from sklearn.cross_validation import cross_val_predict, StratifiedKFold\n",
    "from sklearn.metrics import fbeta_score\n",
    "from sklearn.feature_extraction.text import CountVectorizer\n",
    "from sklearn.ensemble import VotingClassifier\n",
    "from sklearn.preprocessing import Normalizer\n",
    "\n",
    "from glove_transformer import GloveVectorizer\n",
    "\n",
    "data = pd.read_csv(open('semeval2016-task6-trainingdata.txt'), '\\t',\n",
    "                   index_col=0)\n",
    "data = data[data.Target == 'Climate Change is a Real Concern']\n",
    "true_stances = data.Stance\n",
    "\n",
    "cv = StratifiedKFold(true_stances, n_folds=5, shuffle=True, random_state=1)\n",
    "\n",
    "for dim in 25, 50, 100, 200:\n",
    "    print 80 * '='\n",
    "    print 'DIMENSIONS:', dim\n",
    "\n",
    "    glove_fname = 'semeval2016-task6-trainingdata_climate_glove.twitter.27B.{}d.pkl'\n",
    "    glove_vecs = pd.read_pickle(glove_fname.format(dim))\n",
    "\n",
    "    glove_clf = Pipeline([('vect', GloveVectorizer(glove_vecs)),\n",
    "                          ('clf', SVC(C=1, gamma=0.01, probability=True))])\n",
    "\n",
    "    char_clf = Pipeline([('vect', CountVectorizer(decode_error='ignore',\n",
    "                                                  lowercase=False,\n",
    "                                                  min_df=5,\n",
    "                                                  ngram_range=(3, 3),\n",
    "                                                  analyzer='char')),\n",
    "                         ('clf', MultinomialNB())])\n",
    "\n",
    "    word_clf = Pipeline([('vect', CountVectorizer(decode_error='ignore',\n",
    "                                                  lowercase=False,\n",
    "                                                  ngram_range=(2, 2))),\n",
    "                         ('clf', MultinomialNB())])\n",
    "\n",
    "    word2_clf = Pipeline([('vect', CountVectorizer(decode_error='ignore',\n",
    "                                                   lowercase=False,\n",
    "                                                   ngram_range=(2, 2))),\n",
    "                          ('norm', Normalizer()),\n",
    "                          ('clf', SVC(C=10, probability=True))])\n",
    "\n",
    "    vot_clf = VotingClassifier(estimators=[('char', char_clf),\n",
    "                                           ('word', word_clf),\n",
    "                                           ('glove', glove_clf)],\n",
    "                               voting='soft',\n",
    "                               weights=[2, 2, 1])\n",
    "\n",
    "    pred_stances = cross_val_predict(vot_clf, data.Tweet, true_stances, cv=cv)\n",
    "    print classification_report(true_stances, pred_stances, digits=4)\n",
    "\n",
    "    macro_f = fbeta_score(true_stances, pred_stances, 1.0,\n",
    "                          labels=['AGAINST', 'FAVOR'], average='macro')\n",
    "    print 'macro-average of F-score(FAVOR) and F-score(AGAINST): {:.4f}\\n'.format(\n",
    "            macro_f)\n"
   ]
  },
  {
   "cell_type": "code",
   "execution_count": null,
   "metadata": {
    "collapsed": true
   },
   "outputs": [],
   "source": []
  }
 ],
 "metadata": {
  "kernelspec": {
   "display_name": "Python 2",
   "language": "python",
   "name": "python2"
  },
  "language_info": {
   "codemirror_mode": {
    "name": "ipython",
    "version": 2
   },
   "file_extension": ".py",
   "mimetype": "text/x-python",
   "name": "python",
   "nbconvert_exporter": "python",
   "pygments_lexer": "ipython2",
   "version": "2.7.11"
  }
 },
 "nbformat": 4,
 "nbformat_minor": 0
}
