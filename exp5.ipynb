{
 "cells": [
  {
   "cell_type": "markdown",
   "metadata": {},
   "source": [
    "# Exp5: Clustering #\n",
    "\n"
   ]
  },
  {
   "cell_type": "code",
   "execution_count": 35,
   "metadata": {
    "collapsed": true
   },
   "outputs": [],
   "source": [
    "import pandas as pd\n",
    "import numpy as np\n",
    "\n",
    "from sklearn.cluster import KMeans, SpectralClustering, AgglomerativeClustering\n",
    "from sklearn.preprocessing import normalize, scale\n",
    "\n",
    "random_state = 8"
   ]
  },
  {
   "cell_type": "code",
   "execution_count": 36,
   "metadata": {
    "collapsed": false
   },
   "outputs": [
    {
     "name": "stdout",
     "output_type": "stream",
     "text": [
      "================================================================================\n",
      "DIMENSIONS: 25\n",
      "{'FAVOR': [54, 84, 74], 'NONE': [59, 73, 36], 'AGAINST': [3, 8, 4]}\n",
      "================================================================================\n",
      "DIMENSIONS: 50\n",
      "{'FAVOR': [65, 65, 82], 'NONE': [23, 114, 31], 'AGAINST': [7, 4, 4]}\n",
      "================================================================================\n",
      "DIMENSIONS: 100\n",
      "{'FAVOR': [66, 87, 59], 'NONE': [119, 33, 16], 'AGAINST': [3, 4, 8]}\n",
      "================================================================================\n",
      "DIMENSIONS: 200\n",
      "{'FAVOR': [58, 90, 64], 'NONE': [113, 33, 22], 'AGAINST': [4, 4, 7]}\n"
     ]
    }
   ],
   "source": [
    "for dim in 25, 50, 100, 200:\n",
    "    print 80 * '='\n",
    "    print 'DIMENSIONS:', dim\n",
    "    data = pd.read_pickle('semeval2016-task6-trainingdata_climate_glove.twitter.27B.{}d.pkl'.format(dim))\n",
    "    true_stances = data.index\n",
    "    \n",
    "    #data = normalize(data)\n",
    "    data = scale(data)\n",
    "    \n",
    "    pred_stances = KMeans(n_clusters=3, random_state=random_state).fit_predict(data)\n",
    "    #pred_stances = SpectralClustering(n_clusters=3).fit_predict(data)\n",
    "    #pred_stances = AgglomerativeClustering(n_clusters=3).fit_predict(data)\n",
    "    \n",
    "    \n",
    "    d = {'FAVOR': [0,0,0],\n",
    "         'AGAINST': [0,0,0],\n",
    "         'NONE': [0,0,0]}\n",
    "    \n",
    "    for (true, pred) in zip(true_stances, pred_stances):\n",
    "        d[true][pred] += 1\n",
    "        \n",
    "    print d"
   ]
  },
  {
   "cell_type": "code",
   "execution_count": null,
   "metadata": {
    "collapsed": true
   },
   "outputs": [],
   "source": []
  },
  {
   "cell_type": "code",
   "execution_count": null,
   "metadata": {
    "collapsed": true
   },
   "outputs": [],
   "source": []
  },
  {
   "cell_type": "code",
   "execution_count": null,
   "metadata": {
    "collapsed": true
   },
   "outputs": [],
   "source": []
  },
  {
   "cell_type": "code",
   "execution_count": null,
   "metadata": {
    "collapsed": true
   },
   "outputs": [],
   "source": []
  },
  {
   "cell_type": "code",
   "execution_count": null,
   "metadata": {
    "collapsed": true
   },
   "outputs": [],
   "source": []
  }
 ],
 "metadata": {
  "kernelspec": {
   "display_name": "Python 2",
   "language": "python",
   "name": "python2"
  },
  "language_info": {
   "codemirror_mode": {
    "name": "ipython",
    "version": 2
   },
   "file_extension": ".py",
   "mimetype": "text/x-python",
   "name": "python",
   "nbconvert_exporter": "python",
   "pygments_lexer": "ipython2",
   "version": "2.7.11"
  }
 },
 "nbformat": 4,
 "nbformat_minor": 0
}
