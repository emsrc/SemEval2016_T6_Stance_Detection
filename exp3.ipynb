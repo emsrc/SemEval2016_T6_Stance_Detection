{
 "cells": [
  {
   "cell_type": "markdown",
   "metadata": {},
   "source": [
    "# Exp3 #\n",
    "\n",
    "Experiments with using word embedding obtained by summing the Glove vectors available for the words in the tweet.\n",
    "\n",
    "Seems to perform barely better than random. Slightly better with higher dimensions (>50)"
   ]
  },
  {
   "cell_type": "code",
   "execution_count": 101,
   "metadata": {
    "collapsed": true
   },
   "outputs": [],
   "source": [
    "import pandas as pd\n",
    "import numpy as np\n",
    "\n",
    "from sklearn.naive_bayes import MultinomialNB\n",
    "from sklearn.svm import LinearSVC, SVC\n",
    "from sklearn.neighbors import KNeighborsClassifier, NearestCentroid\n",
    "from sklearn.metrics import classification_report\n",
    "from sklearn.cross_validation import cross_val_predict, StratifiedKFold\n",
    "from sklearn.metrics import fbeta_score\n",
    "from sklearn.preprocessing import MinMaxScaler, normalize\n",
    "\n",
    "\n",
    "from sklearn.cross_validation import StratifiedShuffleSplit\n",
    "from sklearn.grid_search import GridSearchCV"
   ]
  },
  {
   "cell_type": "code",
   "execution_count": 102,
   "metadata": {
    "collapsed": false
   },
   "outputs": [
    {
     "name": "stdout",
     "output_type": "stream",
     "text": [
      "================================================================================\n",
      "DIMENSIONS: 25\n",
      "The best parameters are {'C': 100000.0, 'gamma': 9.9999999999999995e-08} with a score of 0.71\n"
     ]
    }
   ],
   "source": [
    "for dim in 25,:# 50, 100, 200:\n",
    "    print 80 * '='\n",
    "    print 'DIMENSIONS:', dim\n",
    "    data = pd.read_pickle('semeval2016-task6-trainingdata_climate_glove.twitter.27B.{}d.pkl'.format(dim))\n",
    "    true_stances = data.index\n",
    "    #normalize(data, copy=False)\n",
    "    scaler = MinMaxScaler(copy=False)\n",
    "    #data = scaler.fit_transform(data)\n",
    "    \n",
    "    C_range = np.logspace(-2, 10, 13)\n",
    "    gamma_range = np.logspace(-9, 3, 13)\n",
    "    param_grid = dict(gamma=gamma_range, C=C_range)\n",
    "    cv = StratifiedShuffleSplit(true_stances, n_iter=5, test_size=0.2, random_state=42)\n",
    "    grid = GridSearchCV(SVC(), param_grid=param_grid, cv=cv)\n",
    "    grid.fit(data, true_stances)\n",
    "\n",
    "    print(\"The best parameters are %s with a score of %0.2f\"\n",
    "      % (grid.best_params_, grid.best_score_))"
   ]
  },
  {
   "cell_type": "code",
   "execution_count": 109,
   "metadata": {
    "collapsed": false
   },
   "outputs": [
    {
     "name": "stdout",
     "output_type": "stream",
     "text": [
      "================================================================================\n",
      "DIMENSIONS: 25\n",
      "             precision    recall  f1-score   support\n",
      "\n",
      "    AGAINST     1.0000    0.2000    0.3333        15\n",
      "      FAVOR     0.5801    0.9057    0.7072       212\n",
      "       NONE     0.6721    0.2440    0.3581       168\n",
      "\n",
      "avg / total     0.6352    0.5975    0.5445       395\n",
      "\n",
      "macro-average of F-score(FAVOR) and F-score(AGAINST): 0.5203\n",
      "\n",
      "================================================================================\n",
      "DIMENSIONS: 50\n",
      "             precision    recall  f1-score   support\n",
      "\n",
      "    AGAINST     1.0000    0.2000    0.3333        15\n",
      "      FAVOR     0.6221    0.9009    0.7360       212\n",
      "       NONE     0.7412    0.3750    0.4980       168\n",
      "\n",
      "avg / total     0.6871    0.6506    0.6195       395\n",
      "\n",
      "macro-average of F-score(FAVOR) and F-score(AGAINST): 0.5347\n",
      "\n",
      "================================================================================\n",
      "DIMENSIONS: 100\n",
      "             precision    recall  f1-score   support\n",
      "\n",
      "    AGAINST     1.0000    0.2000    0.3333        15\n",
      "      FAVOR     0.6667    0.8491    0.7469       212\n",
      "       NONE     0.7131    0.5179    0.6000       168\n",
      "\n",
      "avg / total     0.6991    0.6835    0.6687       395\n",
      "\n",
      "macro-average of F-score(FAVOR) and F-score(AGAINST): 0.5401\n",
      "\n",
      "================================================================================\n",
      "DIMENSIONS: 200\n",
      "             precision    recall  f1-score   support\n",
      "\n",
      "    AGAINST     1.0000    0.2000    0.3333        15\n",
      "      FAVOR     0.6813    0.8066    0.7387       212\n",
      "       NONE     0.6879    0.5774    0.6278       168\n",
      "\n",
      "avg / total     0.6962    0.6861    0.6761       395\n",
      "\n",
      "macro-average of F-score(FAVOR) and F-score(AGAINST): 0.5360\n",
      "\n"
     ]
    }
   ],
   "source": [
    "#clf = LinearSVC(C=5)\n",
    "#clf = MultinomialNB()\n",
    "#clf = KNeighborsClassifier()\n",
    "clf = SVC(C=10.0)\n",
    "\n",
    "cv = None\n",
    "\n",
    "for dim in 25, 50, 100, 200:\n",
    "    print 80 * '='\n",
    "    print 'DIMENSIONS:', dim\n",
    "    data = pd.read_pickle('semeval2016-task6-trainingdata_climate_glove.twitter.27B.{}d.pkl'.format(dim))\n",
    "    true_stances = data.index\n",
    "    #normalize(data, copy=False)\n",
    "    #scaler = MinMaxScaler(copy=False)\n",
    "    #data = scaler.fit_transform(data)\n",
    "    \n",
    "    if not cv:\n",
    "        cv = StratifiedKFold(true_stances, n_folds=5, shuffle=True, random_state=1)\n",
    "    \n",
    "    pred_stances = cross_val_predict(clf, data, true_stances, cv=cv)\n",
    "    print classification_report(true_stances, pred_stances, digits=4)\n",
    "\n",
    "    macro_f = fbeta_score(true_stances, pred_stances, 1.0,\n",
    "                          labels=['AGAINST', 'FAVOR'], average='macro')\n",
    "    print 'macro-average of F-score(FAVOR) and F-score(AGAINST): {:.4f}\\n'.format(macro_f)"
   ]
  },
  {
   "cell_type": "code",
   "execution_count": 51,
   "metadata": {
    "collapsed": false
   },
   "outputs": [
    {
     "name": "stdout",
     "output_type": "stream",
     "text": [
      "             precision    recall  f1-score   support\n",
      "\n",
      "    AGAINST     0.0000    0.0000    0.0000        15\n",
      "      FAVOR     0.5335    0.8255    0.6481       212\n",
      "       NONE     0.4030    0.1607    0.2298       168\n",
      "\n",
      "avg / total     0.4577    0.5114    0.4456       395\n",
      "\n",
      "macro-average of F-score(FAVOR) and F-score(AGAINST): 0.3241\n",
      "\n"
     ]
    }
   ],
   "source": [
    "# use random features as baseline\n",
    "\n",
    "rnd_data = np.random.random(data.shape) \n",
    "pred_stances = cross_val_predict(clf, rnd_data, true_stances, cv=cv)\n",
    "print classification_report(true_stances, pred_stances, digits=4)\n",
    "\n",
    "macro_f = fbeta_score(true_stances, pred_stances, 1.0,\n",
    "                      labels=['AGAINST', 'FAVOR'], average='macro')\n",
    "print 'macro-average of F-score(FAVOR) and F-score(AGAINST): {:.4f}\\n'.format(macro_f)"
   ]
  },
  {
   "cell_type": "code",
   "execution_count": null,
   "metadata": {
    "collapsed": true
   },
   "outputs": [],
   "source": []
  }
 ],
 "metadata": {
  "kernelspec": {
   "display_name": "Python 2",
   "language": "python",
   "name": "python2"
  },
  "language_info": {
   "codemirror_mode": {
    "name": "ipython",
    "version": 2
   },
   "file_extension": ".py",
   "mimetype": "text/x-python",
   "name": "python",
   "nbconvert_exporter": "python",
   "pygments_lexer": "ipython2",
   "version": "2.7.11"
  }
 },
 "nbformat": 4,
 "nbformat_minor": 0
}
